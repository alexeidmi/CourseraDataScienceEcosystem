{
  "nbformat": 4,
  "nbformat_minor": 0,
  "metadata": {
    "colab": {
      "provenance": []
    },
    "kernelspec": {
      "name": "python3",
      "display_name": "Python 3"
    },
    "language_info": {
      "name": "python"
    }
  },
  "cells": [
    {
      "cell_type": "markdown",
      "source": [
        "<h1>Data Science Tools and Ecosystem</h1>"
      ],
      "metadata": {
        "id": "3oRAgi7JlN04"
      }
    },
    {
      "cell_type": "markdown",
      "source": [
        "In this notebook, Data Science Tools and Ecosystem are summarized."
      ],
      "metadata": {
        "id": "cLtSdCzOldsv"
      }
    },
    {
      "cell_type": "markdown",
      "source": [
        "**Objectives:**\n",
        "\n",
        "*   Learn what languages are often used with data science\n",
        "*   Demonstrate the usage of Jupyter Notebooks\n",
        "*   List popular libraries data scientists use.\n",
        "*   Demonstrate mathematical operations in a Jupyter Notebook\n",
        "*   Demonstrate the use of markdown cells in Jupyter Notebook\n",
        "\n"
      ],
      "metadata": {
        "id": "xonltjQzWZpZ"
      }
    },
    {
      "cell_type": "markdown",
      "source": [
        "Some of the popular languages that Data Scientists use are:\n",
        "\n",
        "\n",
        "1.   Python\n",
        "2.   R\n",
        "3.   SQL\n",
        "\n"
      ],
      "metadata": {
        "id": "89iqelBclgiA"
      }
    },
    {
      "cell_type": "markdown",
      "source": [
        "Some of the commonly used libraries used by Data Scientists include:\n",
        "\n",
        "\n",
        "1.   matplotlib.pyplot\n",
        "2.   ggplot\n",
        "3.   pandas\n"
      ],
      "metadata": {
        "id": "ywUyqhrylork"
      }
    },
    {
      "cell_type": "markdown",
      "source": [
        "|   |Data Science Tools |   |\n",
        "|:--------:|:--------:|:--------:|\n",
        "|  RStudio   |  Google Colab   |  Spyder   |\n"
      ],
      "metadata": {
        "id": "34cksEt5l-xe"
      }
    },
    {
      "cell_type": "markdown",
      "source": [
        "<H3>Below are a few examples of evaluating arithmetic expressions in Python</H3>"
      ],
      "metadata": {
        "id": "vkX_lHZZnVxA"
      }
    },
    {
      "cell_type": "code",
      "source": [
        "#This is a simple arithmetic expression to multiply and then add integers\n",
        "value = (3*4)+5\n",
        "print(value)"
      ],
      "metadata": {
        "id": "rOigfEh2nhHk",
        "colab": {
          "base_uri": "https://localhost:8080/"
        },
        "outputId": "da2a300c-d321-4f4b-ea93-f346412ff218"
      },
      "execution_count": 1,
      "outputs": [
        {
          "output_type": "stream",
          "name": "stdout",
          "text": [
            "17\n"
          ]
        }
      ]
    },
    {
      "cell_type": "code",
      "source": [
        "#This will convert 200 minutes to hours by diving by 60\n",
        "\n",
        "minutes = 200\n",
        "\n",
        "def min_to_hour(min):\n",
        "  #this function converts a given number of minutes to hours.\n",
        "  #by using // rather than / when dividing, we can find the whole number without any remainder\n",
        "  #by then subtracting the whole number amount from the minutes, we can find the remaining minutes\n",
        "\n",
        "  hours = min // 60\n",
        "  left_over_min = min - hours*60\n",
        "\n",
        "  return (str(hours)+' hours '+str(left_over_min)+' minutes')\n",
        "\n",
        "\n",
        "print(min_to_hour(minutes))\n"
      ],
      "metadata": {
        "colab": {
          "base_uri": "https://localhost:8080/"
        },
        "id": "3Kkt4Xv9VViy",
        "outputId": "404484c4-13e0-4fb3-f367-3798f4ba2c97"
      },
      "execution_count": 4,
      "outputs": [
        {
          "output_type": "stream",
          "name": "stdout",
          "text": [
            "3 hours 20 minutes\n"
          ]
        }
      ]
    },
    {
      "cell_type": "markdown",
      "source": [
        "<H2>Author</H2>\n",
        "Dmiti Gapeev"
      ],
      "metadata": {
        "id": "m2y-BtlRWUK0"
      }
    }
  ]
}